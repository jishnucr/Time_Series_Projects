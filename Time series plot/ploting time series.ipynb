{
 "cells": [
  {
   "cell_type": "code",
   "execution_count": 1,
   "id": "0c6510a1-00e2-49e1-89fa-dd841c1dffca",
   "metadata": {},
   "outputs": [],
   "source": [
    "import pandas as pd\n",
    "import numpy as np"
   ]
  },
  {
   "cell_type": "code",
   "execution_count": 71,
   "id": "db2447c7-414b-477a-a496-dbc65dc45603",
   "metadata": {},
   "outputs": [
    {
     "name": "stdout",
     "output_type": "stream",
     "text": [
      " Volume in drive C is Windows\n",
      " Volume Serial Number is B233-0680\n",
      "\n",
      " Directory of C:\\data science\\Time series\n",
      "\n",
      "19-04-2024  14:42    <DIR>          .\n",
      "17-04-2024  13:07    <DIR>          ..\n",
      "19-04-2024  12:17    <DIR>          .ipynb_checkpoints\n",
      "19-04-2024  12:15            55,852 daily-minimum-temperatures-in-me.csv\n",
      "17-04-2024  12:18            55,837 daily-minimum-temperatures-in-me.csv.xls\n",
      "19-04-2024  14:41            78,199 DailyDelhiClimateTrain.csv\n",
      "19-04-2024  12:19           590,808 Data Preperation.ipynb\n",
      "19-04-2024  12:15             7,318 Electric_Production.csv\n",
      "19-04-2024  12:15             6,903 monthly-beer-production-in-austr.csv\n",
      "19-04-2024  14:32           183,540 ploting time series.ipynb\n",
      "19-04-2024  12:15               509 sales-of-shampoo-over-a-three-ye.csv\n",
      "18-04-2024  12:12            32,954 Time_Series_Forecasting.ipynb\n",
      "               9 File(s)      1,011,920 bytes\n",
      "               3 Dir(s)  187,435,405,312 bytes free\n"
     ]
    }
   ],
   "source": [
    "!dir"
   ]
  },
  {
   "cell_type": "code",
   "execution_count": 79,
   "id": "64969745-65cf-4999-88bb-743122fb2dbd",
   "metadata": {},
   "outputs": [],
   "source": [
    "humidity = pd.read_csv(\"DailyDelhiClimateTrain.csv\",usecols=[\"date\",\"humidity\"],header =0,index_col=0,parse_dates=True).squeeze()\n"
   ]
  },
  {
   "cell_type": "code",
   "execution_count": 80,
   "id": "98be3e5e-b0e9-4e3d-becf-a98a96a6bd60",
   "metadata": {},
   "outputs": [
    {
     "data": {
      "text/plain": [
       "date\n",
       "2013-01-01     84.500000\n",
       "2013-01-02     92.000000\n",
       "2013-01-03     87.000000\n",
       "2013-01-04     71.333333\n",
       "2013-01-05     86.833333\n",
       "                 ...    \n",
       "2016-12-28     68.043478\n",
       "2016-12-29     87.857143\n",
       "2016-12-30     89.666667\n",
       "2016-12-31     87.000000\n",
       "2017-01-01    100.000000\n",
       "Name: humidity, Length: 1462, dtype: float64"
      ]
     },
     "execution_count": 80,
     "metadata": {},
     "output_type": "execute_result"
    }
   ],
   "source": [
    "humidity"
   ]
  },
  {
   "cell_type": "markdown",
   "id": "ddcfa567-c98d-422e-b8aa-cffba836281c",
   "metadata": {},
   "source": [
    "### descriptive statistics"
   ]
  },
  {
   "cell_type": "code",
   "execution_count": 81,
   "id": "6733c5b3-d172-4dc9-92a5-5166be33bf73",
   "metadata": {},
   "outputs": [
    {
     "data": {
      "text/plain": [
       "count    1462.000000\n",
       "mean       60.771702\n",
       "std        16.769652\n",
       "min        13.428571\n",
       "25%        50.375000\n",
       "50%        62.625000\n",
       "75%        72.218750\n",
       "max       100.000000\n",
       "Name: humidity, dtype: float64"
      ]
     },
     "execution_count": 81,
     "metadata": {},
     "output_type": "execute_result"
    }
   ],
   "source": [
    "humidity.describe(include=\"all\")"
   ]
  },
  {
   "cell_type": "code",
   "execution_count": 82,
   "id": "eee03626-4ffd-45c1-b8d1-ff640853bf48",
   "metadata": {},
   "outputs": [
    {
     "data": {
      "text/plain": [
       "<bound method Series.unique of date\n",
       "2013-01-01     84.500000\n",
       "2013-01-02     92.000000\n",
       "2013-01-03     87.000000\n",
       "2013-01-04     71.333333\n",
       "2013-01-05     86.833333\n",
       "                 ...    \n",
       "2016-12-28     68.043478\n",
       "2016-12-29     87.857143\n",
       "2016-12-30     89.666667\n",
       "2016-12-31     87.000000\n",
       "2017-01-01    100.000000\n",
       "Name: humidity, Length: 1462, dtype: float64>"
      ]
     },
     "execution_count": 82,
     "metadata": {},
     "output_type": "execute_result"
    }
   ],
   "source": [
    "humidity.unique"
   ]
  },
  {
   "cell_type": "code",
   "execution_count": null,
   "id": "00211da9-364b-41c7-96a2-44c09c712138",
   "metadata": {},
   "outputs": [],
   "source": []
  },
  {
   "cell_type": "markdown",
   "id": "5fb092cf-cb81-4ea2-a9cb-7de910f431f8",
   "metadata": {},
   "source": [
    "### rolling Window Statistics"
   ]
  },
  {
   "cell_type": "code",
   "execution_count": 83,
   "id": "22859453-5d98-4a50-8d40-7cabb183f597",
   "metadata": {},
   "outputs": [
    {
     "data": {
      "text/plain": [
       "Rolling [window=2,center=False,axis=0,method=single]"
      ]
     },
     "execution_count": 83,
     "metadata": {},
     "output_type": "execute_result"
    }
   ],
   "source": [
    "d = pd.DataFrame(humidity.values)\n",
    "shifted = d.shift(1)\n",
    "window = shifted.rolling(window=2)\n",
    "window"
   ]
  },
  {
   "cell_type": "code",
   "execution_count": 84,
   "id": "47b70801-41e6-4e1d-a594-6e2fca1aba0d",
   "metadata": {},
   "outputs": [
    {
     "data": {
      "text/html": [
       "<div>\n",
       "<style scoped>\n",
       "    .dataframe tbody tr th:only-of-type {\n",
       "        vertical-align: middle;\n",
       "    }\n",
       "\n",
       "    .dataframe tbody tr th {\n",
       "        vertical-align: top;\n",
       "    }\n",
       "\n",
       "    .dataframe thead th {\n",
       "        text-align: right;\n",
       "    }\n",
       "</style>\n",
       "<table border=\"1\" class=\"dataframe\">\n",
       "  <thead>\n",
       "    <tr style=\"text-align: right;\">\n",
       "      <th></th>\n",
       "      <th>0</th>\n",
       "    </tr>\n",
       "  </thead>\n",
       "  <tbody>\n",
       "    <tr>\n",
       "      <th>0</th>\n",
       "      <td>NaN</td>\n",
       "    </tr>\n",
       "    <tr>\n",
       "      <th>1</th>\n",
       "      <td>84.500000</td>\n",
       "    </tr>\n",
       "    <tr>\n",
       "      <th>2</th>\n",
       "      <td>92.000000</td>\n",
       "    </tr>\n",
       "    <tr>\n",
       "      <th>3</th>\n",
       "      <td>87.000000</td>\n",
       "    </tr>\n",
       "    <tr>\n",
       "      <th>4</th>\n",
       "      <td>71.333333</td>\n",
       "    </tr>\n",
       "    <tr>\n",
       "      <th>...</th>\n",
       "      <td>...</td>\n",
       "    </tr>\n",
       "    <tr>\n",
       "      <th>1457</th>\n",
       "      <td>67.550000</td>\n",
       "    </tr>\n",
       "    <tr>\n",
       "      <th>1458</th>\n",
       "      <td>68.043478</td>\n",
       "    </tr>\n",
       "    <tr>\n",
       "      <th>1459</th>\n",
       "      <td>87.857143</td>\n",
       "    </tr>\n",
       "    <tr>\n",
       "      <th>1460</th>\n",
       "      <td>89.666667</td>\n",
       "    </tr>\n",
       "    <tr>\n",
       "      <th>1461</th>\n",
       "      <td>87.000000</td>\n",
       "    </tr>\n",
       "  </tbody>\n",
       "</table>\n",
       "<p>1462 rows × 1 columns</p>\n",
       "</div>"
      ],
      "text/plain": [
       "              0\n",
       "0           NaN\n",
       "1     84.500000\n",
       "2     92.000000\n",
       "3     87.000000\n",
       "4     71.333333\n",
       "...         ...\n",
       "1457  67.550000\n",
       "1458  68.043478\n",
       "1459  87.857143\n",
       "1460  89.666667\n",
       "1461  87.000000\n",
       "\n",
       "[1462 rows x 1 columns]"
      ]
     },
     "execution_count": 84,
     "metadata": {},
     "output_type": "execute_result"
    }
   ],
   "source": [
    "shifted"
   ]
  },
  {
   "cell_type": "code",
   "execution_count": 85,
   "id": "2adabcc0-dacb-4518-8cda-d9e1d9e8e795",
   "metadata": {},
   "outputs": [],
   "source": [
    "means=window.mean()"
   ]
  },
  {
   "cell_type": "code",
   "execution_count": 86,
   "id": "1109c0f9-be66-46d6-adda-68e5593892bb",
   "metadata": {},
   "outputs": [],
   "source": [
    "df3 = pd.concat([means,d,shifted],axis=1)\n",
    "df3.columns = ['mean(t-1,t)','t+1','t']"
   ]
  },
  {
   "cell_type": "code",
   "execution_count": 87,
   "id": "f720b42c-9de1-416e-a1b8-1f8f73cace8b",
   "metadata": {},
   "outputs": [
    {
     "data": {
      "text/html": [
       "<div>\n",
       "<style scoped>\n",
       "    .dataframe tbody tr th:only-of-type {\n",
       "        vertical-align: middle;\n",
       "    }\n",
       "\n",
       "    .dataframe tbody tr th {\n",
       "        vertical-align: top;\n",
       "    }\n",
       "\n",
       "    .dataframe thead th {\n",
       "        text-align: right;\n",
       "    }\n",
       "</style>\n",
       "<table border=\"1\" class=\"dataframe\">\n",
       "  <thead>\n",
       "    <tr style=\"text-align: right;\">\n",
       "      <th></th>\n",
       "      <th>mean(t-1,t)</th>\n",
       "      <th>t+1</th>\n",
       "      <th>t</th>\n",
       "    </tr>\n",
       "  </thead>\n",
       "  <tbody>\n",
       "    <tr>\n",
       "      <th>0</th>\n",
       "      <td>NaN</td>\n",
       "      <td>84.500000</td>\n",
       "      <td>NaN</td>\n",
       "    </tr>\n",
       "    <tr>\n",
       "      <th>1</th>\n",
       "      <td>NaN</td>\n",
       "      <td>92.000000</td>\n",
       "      <td>84.500000</td>\n",
       "    </tr>\n",
       "    <tr>\n",
       "      <th>2</th>\n",
       "      <td>88.250000</td>\n",
       "      <td>87.000000</td>\n",
       "      <td>92.000000</td>\n",
       "    </tr>\n",
       "    <tr>\n",
       "      <th>3</th>\n",
       "      <td>89.500000</td>\n",
       "      <td>71.333333</td>\n",
       "      <td>87.000000</td>\n",
       "    </tr>\n",
       "    <tr>\n",
       "      <th>4</th>\n",
       "      <td>79.166667</td>\n",
       "      <td>86.833333</td>\n",
       "      <td>71.333333</td>\n",
       "    </tr>\n",
       "    <tr>\n",
       "      <th>...</th>\n",
       "      <td>...</td>\n",
       "      <td>...</td>\n",
       "      <td>...</td>\n",
       "    </tr>\n",
       "    <tr>\n",
       "      <th>1457</th>\n",
       "      <td>71.203571</td>\n",
       "      <td>68.043478</td>\n",
       "      <td>67.550000</td>\n",
       "    </tr>\n",
       "    <tr>\n",
       "      <th>1458</th>\n",
       "      <td>67.796739</td>\n",
       "      <td>87.857143</td>\n",
       "      <td>68.043478</td>\n",
       "    </tr>\n",
       "    <tr>\n",
       "      <th>1459</th>\n",
       "      <td>77.950311</td>\n",
       "      <td>89.666667</td>\n",
       "      <td>87.857143</td>\n",
       "    </tr>\n",
       "    <tr>\n",
       "      <th>1460</th>\n",
       "      <td>88.761905</td>\n",
       "      <td>87.000000</td>\n",
       "      <td>89.666667</td>\n",
       "    </tr>\n",
       "    <tr>\n",
       "      <th>1461</th>\n",
       "      <td>88.333333</td>\n",
       "      <td>100.000000</td>\n",
       "      <td>87.000000</td>\n",
       "    </tr>\n",
       "  </tbody>\n",
       "</table>\n",
       "<p>1462 rows × 3 columns</p>\n",
       "</div>"
      ],
      "text/plain": [
       "      mean(t-1,t)         t+1          t\n",
       "0             NaN   84.500000        NaN\n",
       "1             NaN   92.000000  84.500000\n",
       "2       88.250000   87.000000  92.000000\n",
       "3       89.500000   71.333333  87.000000\n",
       "4       79.166667   86.833333  71.333333\n",
       "...           ...         ...        ...\n",
       "1457    71.203571   68.043478  67.550000\n",
       "1458    67.796739   87.857143  68.043478\n",
       "1459    77.950311   89.666667  87.857143\n",
       "1460    88.761905   87.000000  89.666667\n",
       "1461    88.333333  100.000000  87.000000\n",
       "\n",
       "[1462 rows x 3 columns]"
      ]
     },
     "execution_count": 87,
     "metadata": {},
     "output_type": "execute_result"
    }
   ],
   "source": [
    "df3"
   ]
  },
  {
   "cell_type": "code",
   "execution_count": null,
   "id": "689fd851-2050-4507-8f04-c17ff53448a2",
   "metadata": {},
   "outputs": [],
   "source": []
  },
  {
   "cell_type": "code",
   "execution_count": 88,
   "id": "a02604ce-f544-4567-b83d-7bd1cc4711c6",
   "metadata": {},
   "outputs": [
    {
     "data": {
      "text/html": [
       "<div>\n",
       "<style scoped>\n",
       "    .dataframe tbody tr th:only-of-type {\n",
       "        vertical-align: middle;\n",
       "    }\n",
       "\n",
       "    .dataframe tbody tr th {\n",
       "        vertical-align: top;\n",
       "    }\n",
       "\n",
       "    .dataframe thead th {\n",
       "        text-align: right;\n",
       "    }\n",
       "</style>\n",
       "<table border=\"1\" class=\"dataframe\">\n",
       "  <thead>\n",
       "    <tr style=\"text-align: right;\">\n",
       "      <th></th>\n",
       "      <th>0</th>\n",
       "    </tr>\n",
       "  </thead>\n",
       "  <tbody>\n",
       "    <tr>\n",
       "      <th>0</th>\n",
       "      <td>NaN</td>\n",
       "    </tr>\n",
       "    <tr>\n",
       "      <th>1</th>\n",
       "      <td>NaN</td>\n",
       "    </tr>\n",
       "    <tr>\n",
       "      <th>2</th>\n",
       "      <td>84.500000</td>\n",
       "    </tr>\n",
       "    <tr>\n",
       "      <th>3</th>\n",
       "      <td>92.000000</td>\n",
       "    </tr>\n",
       "    <tr>\n",
       "      <th>4</th>\n",
       "      <td>87.000000</td>\n",
       "    </tr>\n",
       "    <tr>\n",
       "      <th>...</th>\n",
       "      <td>...</td>\n",
       "    </tr>\n",
       "    <tr>\n",
       "      <th>1457</th>\n",
       "      <td>74.857143</td>\n",
       "    </tr>\n",
       "    <tr>\n",
       "      <th>1458</th>\n",
       "      <td>67.550000</td>\n",
       "    </tr>\n",
       "    <tr>\n",
       "      <th>1459</th>\n",
       "      <td>68.043478</td>\n",
       "    </tr>\n",
       "    <tr>\n",
       "      <th>1460</th>\n",
       "      <td>87.857143</td>\n",
       "    </tr>\n",
       "    <tr>\n",
       "      <th>1461</th>\n",
       "      <td>89.666667</td>\n",
       "    </tr>\n",
       "  </tbody>\n",
       "</table>\n",
       "<p>1462 rows × 1 columns</p>\n",
       "</div>"
      ],
      "text/plain": [
       "              0\n",
       "0           NaN\n",
       "1           NaN\n",
       "2     84.500000\n",
       "3     92.000000\n",
       "4     87.000000\n",
       "...         ...\n",
       "1457  74.857143\n",
       "1458  67.550000\n",
       "1459  68.043478\n",
       "1460  87.857143\n",
       "1461  89.666667\n",
       "\n",
       "[1462 rows x 1 columns]"
      ]
     },
     "execution_count": 88,
     "metadata": {},
     "output_type": "execute_result"
    }
   ],
   "source": [
    "shifted = d.shift(2)\n",
    "shifted"
   ]
  },
  {
   "cell_type": "code",
   "execution_count": 89,
   "id": "6d5ed58d-6ee9-4c5e-a047-0b1df844d0b2",
   "metadata": {},
   "outputs": [
    {
     "name": "stdout",
     "output_type": "stream",
     "text": [
      "              0\n",
      "0           NaN\n",
      "1     84.500000\n",
      "2     92.000000\n",
      "3     87.000000\n",
      "4     71.333333\n",
      "...         ...\n",
      "1457  67.550000\n",
      "1458  68.043478\n",
      "1459  87.857143\n",
      "1460  89.666667\n",
      "1461  87.000000\n",
      "\n",
      "[1462 rows x 1 columns]\n"
     ]
    },
    {
     "data": {
      "text/html": [
       "<div>\n",
       "<style scoped>\n",
       "    .dataframe tbody tr th:only-of-type {\n",
       "        vertical-align: middle;\n",
       "    }\n",
       "\n",
       "    .dataframe tbody tr th {\n",
       "        vertical-align: top;\n",
       "    }\n",
       "\n",
       "    .dataframe thead th {\n",
       "        text-align: right;\n",
       "    }\n",
       "</style>\n",
       "<table border=\"1\" class=\"dataframe\">\n",
       "  <thead>\n",
       "    <tr style=\"text-align: right;\">\n",
       "      <th></th>\n",
       "      <th>min</th>\n",
       "      <th>max</th>\n",
       "      <th>mean</th>\n",
       "      <th>t</th>\n",
       "      <th>t+1</th>\n",
       "    </tr>\n",
       "  </thead>\n",
       "  <tbody>\n",
       "    <tr>\n",
       "      <th>0</th>\n",
       "      <td>NaN</td>\n",
       "      <td>NaN</td>\n",
       "      <td>NaN</td>\n",
       "      <td>NaN</td>\n",
       "      <td>84.500000</td>\n",
       "    </tr>\n",
       "    <tr>\n",
       "      <th>1</th>\n",
       "      <td>NaN</td>\n",
       "      <td>NaN</td>\n",
       "      <td>NaN</td>\n",
       "      <td>84.500000</td>\n",
       "      <td>92.000000</td>\n",
       "    </tr>\n",
       "    <tr>\n",
       "      <th>2</th>\n",
       "      <td>NaN</td>\n",
       "      <td>NaN</td>\n",
       "      <td>NaN</td>\n",
       "      <td>92.000000</td>\n",
       "      <td>87.000000</td>\n",
       "    </tr>\n",
       "    <tr>\n",
       "      <th>3</th>\n",
       "      <td>84.500000</td>\n",
       "      <td>92.000000</td>\n",
       "      <td>87.833333</td>\n",
       "      <td>87.000000</td>\n",
       "      <td>71.333333</td>\n",
       "    </tr>\n",
       "    <tr>\n",
       "      <th>4</th>\n",
       "      <td>71.333333</td>\n",
       "      <td>92.000000</td>\n",
       "      <td>83.444444</td>\n",
       "      <td>71.333333</td>\n",
       "      <td>86.833333</td>\n",
       "    </tr>\n",
       "    <tr>\n",
       "      <th>...</th>\n",
       "      <td>...</td>\n",
       "      <td>...</td>\n",
       "      <td>...</td>\n",
       "      <td>...</td>\n",
       "      <td>...</td>\n",
       "    </tr>\n",
       "    <tr>\n",
       "      <th>1457</th>\n",
       "      <td>67.550000</td>\n",
       "      <td>94.300000</td>\n",
       "      <td>78.902381</td>\n",
       "      <td>67.550000</td>\n",
       "      <td>68.043478</td>\n",
       "    </tr>\n",
       "    <tr>\n",
       "      <th>1458</th>\n",
       "      <td>67.550000</td>\n",
       "      <td>74.857143</td>\n",
       "      <td>70.150207</td>\n",
       "      <td>68.043478</td>\n",
       "      <td>87.857143</td>\n",
       "    </tr>\n",
       "    <tr>\n",
       "      <th>1459</th>\n",
       "      <td>67.550000</td>\n",
       "      <td>87.857143</td>\n",
       "      <td>74.483540</td>\n",
       "      <td>87.857143</td>\n",
       "      <td>89.666667</td>\n",
       "    </tr>\n",
       "    <tr>\n",
       "      <th>1460</th>\n",
       "      <td>68.043478</td>\n",
       "      <td>89.666667</td>\n",
       "      <td>81.855763</td>\n",
       "      <td>89.666667</td>\n",
       "      <td>87.000000</td>\n",
       "    </tr>\n",
       "    <tr>\n",
       "      <th>1461</th>\n",
       "      <td>87.000000</td>\n",
       "      <td>89.666667</td>\n",
       "      <td>88.174603</td>\n",
       "      <td>87.000000</td>\n",
       "      <td>100.000000</td>\n",
       "    </tr>\n",
       "  </tbody>\n",
       "</table>\n",
       "<p>1462 rows × 5 columns</p>\n",
       "</div>"
      ],
      "text/plain": [
       "            min        max       mean          t         t+1\n",
       "0           NaN        NaN        NaN        NaN   84.500000\n",
       "1           NaN        NaN        NaN  84.500000   92.000000\n",
       "2           NaN        NaN        NaN  92.000000   87.000000\n",
       "3     84.500000  92.000000  87.833333  87.000000   71.333333\n",
       "4     71.333333  92.000000  83.444444  71.333333   86.833333\n",
       "...         ...        ...        ...        ...         ...\n",
       "1457  67.550000  94.300000  78.902381  67.550000   68.043478\n",
       "1458  67.550000  74.857143  70.150207  68.043478   87.857143\n",
       "1459  67.550000  87.857143  74.483540  87.857143   89.666667\n",
       "1460  68.043478  89.666667  81.855763  89.666667   87.000000\n",
       "1461  87.000000  89.666667  88.174603  87.000000  100.000000\n",
       "\n",
       "[1462 rows x 5 columns]"
      ]
     },
     "execution_count": 89,
     "metadata": {},
     "output_type": "execute_result"
    }
   ],
   "source": [
    "width = 3\n",
    "shifted = d.shift(1)\n",
    "print(shifted)\n",
    "window = shifted.rolling(window = width)\n",
    "df4 = pd.concat([window.min(),window.max(),window.mean(),shifted,d],axis=1)\n",
    "df4.columns = ['min','max','mean','t','t+1']\n",
    "df4"
   ]
  },
  {
   "cell_type": "code",
   "execution_count": 90,
   "id": "ac5b4c21-55db-43bd-8607-3393ce4ba1a5",
   "metadata": {},
   "outputs": [],
   "source": [
    "d = pd.DataFrame(humidity.values)\n",
    "window = d.expanding()\n",
    "shifted = d.shift(1)\n",
    "dataframe = pd.concat([window.min(),window.max(),window.mean(),d.shift(-1)],axis=1)\n",
    "dataframe.columns=[\"min\",\"max\",\"mean\",\"t+1\"]"
   ]
  },
  {
   "cell_type": "code",
   "execution_count": 91,
   "id": "424de310-a5d1-464e-87d2-d2d92afc2cca",
   "metadata": {},
   "outputs": [
    {
     "data": {
      "text/html": [
       "<div>\n",
       "<style scoped>\n",
       "    .dataframe tbody tr th:only-of-type {\n",
       "        vertical-align: middle;\n",
       "    }\n",
       "\n",
       "    .dataframe tbody tr th {\n",
       "        vertical-align: top;\n",
       "    }\n",
       "\n",
       "    .dataframe thead th {\n",
       "        text-align: right;\n",
       "    }\n",
       "</style>\n",
       "<table border=\"1\" class=\"dataframe\">\n",
       "  <thead>\n",
       "    <tr style=\"text-align: right;\">\n",
       "      <th></th>\n",
       "      <th>min</th>\n",
       "      <th>max</th>\n",
       "      <th>mean</th>\n",
       "      <th>t+1</th>\n",
       "    </tr>\n",
       "  </thead>\n",
       "  <tbody>\n",
       "    <tr>\n",
       "      <th>0</th>\n",
       "      <td>84.500000</td>\n",
       "      <td>84.5</td>\n",
       "      <td>84.500000</td>\n",
       "      <td>92.000000</td>\n",
       "    </tr>\n",
       "    <tr>\n",
       "      <th>1</th>\n",
       "      <td>84.500000</td>\n",
       "      <td>92.0</td>\n",
       "      <td>88.250000</td>\n",
       "      <td>87.000000</td>\n",
       "    </tr>\n",
       "    <tr>\n",
       "      <th>2</th>\n",
       "      <td>84.500000</td>\n",
       "      <td>92.0</td>\n",
       "      <td>87.833333</td>\n",
       "      <td>71.333333</td>\n",
       "    </tr>\n",
       "    <tr>\n",
       "      <th>3</th>\n",
       "      <td>71.333333</td>\n",
       "      <td>92.0</td>\n",
       "      <td>83.708333</td>\n",
       "      <td>86.833333</td>\n",
       "    </tr>\n",
       "    <tr>\n",
       "      <th>4</th>\n",
       "      <td>71.333333</td>\n",
       "      <td>92.0</td>\n",
       "      <td>84.333333</td>\n",
       "      <td>82.800000</td>\n",
       "    </tr>\n",
       "    <tr>\n",
       "      <th>...</th>\n",
       "      <td>...</td>\n",
       "      <td>...</td>\n",
       "      <td>...</td>\n",
       "      <td>...</td>\n",
       "    </tr>\n",
       "    <tr>\n",
       "      <th>1457</th>\n",
       "      <td>13.428571</td>\n",
       "      <td>98.0</td>\n",
       "      <td>60.688411</td>\n",
       "      <td>87.857143</td>\n",
       "    </tr>\n",
       "    <tr>\n",
       "      <th>1458</th>\n",
       "      <td>13.428571</td>\n",
       "      <td>98.0</td>\n",
       "      <td>60.707033</td>\n",
       "      <td>89.666667</td>\n",
       "    </tr>\n",
       "    <tr>\n",
       "      <th>1459</th>\n",
       "      <td>13.428571</td>\n",
       "      <td>98.0</td>\n",
       "      <td>60.726868</td>\n",
       "      <td>87.000000</td>\n",
       "    </tr>\n",
       "    <tr>\n",
       "      <th>1460</th>\n",
       "      <td>13.428571</td>\n",
       "      <td>98.0</td>\n",
       "      <td>60.744851</td>\n",
       "      <td>100.000000</td>\n",
       "    </tr>\n",
       "    <tr>\n",
       "      <th>1461</th>\n",
       "      <td>13.428571</td>\n",
       "      <td>100.0</td>\n",
       "      <td>60.771702</td>\n",
       "      <td>NaN</td>\n",
       "    </tr>\n",
       "  </tbody>\n",
       "</table>\n",
       "<p>1462 rows × 4 columns</p>\n",
       "</div>"
      ],
      "text/plain": [
       "            min    max       mean         t+1\n",
       "0     84.500000   84.5  84.500000   92.000000\n",
       "1     84.500000   92.0  88.250000   87.000000\n",
       "2     84.500000   92.0  87.833333   71.333333\n",
       "3     71.333333   92.0  83.708333   86.833333\n",
       "4     71.333333   92.0  84.333333   82.800000\n",
       "...         ...    ...        ...         ...\n",
       "1457  13.428571   98.0  60.688411   87.857143\n",
       "1458  13.428571   98.0  60.707033   89.666667\n",
       "1459  13.428571   98.0  60.726868   87.000000\n",
       "1460  13.428571   98.0  60.744851  100.000000\n",
       "1461  13.428571  100.0  60.771702         NaN\n",
       "\n",
       "[1462 rows x 4 columns]"
      ]
     },
     "execution_count": 91,
     "metadata": {},
     "output_type": "execute_result"
    }
   ],
   "source": [
    "dataframe"
   ]
  },
  {
   "cell_type": "code",
   "execution_count": 92,
   "id": "99b673e8-2b6a-4bab-9f49-aa0fe0ce7112",
   "metadata": {},
   "outputs": [
    {
     "data": {
      "text/plain": [
       "0    60.744851\n",
       "dtype: float64"
      ]
     },
     "execution_count": 92,
     "metadata": {},
     "output_type": "execute_result"
    }
   ],
   "source": [
    "shifted.mean()"
   ]
  },
  {
   "cell_type": "code",
   "execution_count": 93,
   "id": "eb30eb2e-fa7e-4994-8cd0-7fe60166bd52",
   "metadata": {},
   "outputs": [
    {
     "data": {
      "text/html": [
       "<div>\n",
       "<style scoped>\n",
       "    .dataframe tbody tr th:only-of-type {\n",
       "        vertical-align: middle;\n",
       "    }\n",
       "\n",
       "    .dataframe tbody tr th {\n",
       "        vertical-align: top;\n",
       "    }\n",
       "\n",
       "    .dataframe thead th {\n",
       "        text-align: right;\n",
       "    }\n",
       "</style>\n",
       "<table border=\"1\" class=\"dataframe\">\n",
       "  <thead>\n",
       "    <tr style=\"text-align: right;\">\n",
       "      <th></th>\n",
       "      <th>0</th>\n",
       "    </tr>\n",
       "  </thead>\n",
       "  <tbody>\n",
       "    <tr>\n",
       "      <th>0</th>\n",
       "      <td>NaN</td>\n",
       "    </tr>\n",
       "    <tr>\n",
       "      <th>1</th>\n",
       "      <td>84.500000</td>\n",
       "    </tr>\n",
       "    <tr>\n",
       "      <th>2</th>\n",
       "      <td>92.000000</td>\n",
       "    </tr>\n",
       "    <tr>\n",
       "      <th>3</th>\n",
       "      <td>87.000000</td>\n",
       "    </tr>\n",
       "    <tr>\n",
       "      <th>4</th>\n",
       "      <td>71.333333</td>\n",
       "    </tr>\n",
       "    <tr>\n",
       "      <th>...</th>\n",
       "      <td>...</td>\n",
       "    </tr>\n",
       "    <tr>\n",
       "      <th>1457</th>\n",
       "      <td>67.550000</td>\n",
       "    </tr>\n",
       "    <tr>\n",
       "      <th>1458</th>\n",
       "      <td>68.043478</td>\n",
       "    </tr>\n",
       "    <tr>\n",
       "      <th>1459</th>\n",
       "      <td>87.857143</td>\n",
       "    </tr>\n",
       "    <tr>\n",
       "      <th>1460</th>\n",
       "      <td>89.666667</td>\n",
       "    </tr>\n",
       "    <tr>\n",
       "      <th>1461</th>\n",
       "      <td>87.000000</td>\n",
       "    </tr>\n",
       "  </tbody>\n",
       "</table>\n",
       "<p>1462 rows × 1 columns</p>\n",
       "</div>"
      ],
      "text/plain": [
       "              0\n",
       "0           NaN\n",
       "1     84.500000\n",
       "2     92.000000\n",
       "3     87.000000\n",
       "4     71.333333\n",
       "...         ...\n",
       "1457  67.550000\n",
       "1458  68.043478\n",
       "1459  87.857143\n",
       "1460  89.666667\n",
       "1461  87.000000\n",
       "\n",
       "[1462 rows x 1 columns]"
      ]
     },
     "execution_count": 93,
     "metadata": {},
     "output_type": "execute_result"
    }
   ],
   "source": [
    "shifted"
   ]
  },
  {
   "cell_type": "code",
   "execution_count": 94,
   "id": "691a38a6-286b-461f-9558-5b636ccd2e21",
   "metadata": {},
   "outputs": [],
   "source": [
    "import matplotlib.pyplot as plt"
   ]
  },
  {
   "cell_type": "code",
   "execution_count": 95,
   "id": "e09cc490-f3e6-4748-8bce-fc338f7a3019",
   "metadata": {},
   "outputs": [
    {
     "data": {
      "text/plain": [
       "<Axes: xlabel='date'>"
      ]
     },
     "execution_count": 95,
     "metadata": {},
     "output_type": "execute_result"
    },
    {
     "data": {
      "image/png": "[encoded data removed]",
      "text/plain": [
       "<Figure size 640x480 with 1 Axes>"
      ]
     },
     "metadata": {},
     "output_type": "display_data"
    }
   ],
   "source": [
    "humidity.plot(style=\"k.\")"
   ]
  },
  {
   "cell_type": "code",
   "execution_count": 96,
   "id": "224ba42b-6608-48a4-b143-241ee1ef013f",
   "metadata": {},
   "outputs": [
    {
     "data": {
      "text/plain": [
       "date\n",
       "2013-01-01     84.500000\n",
       "2013-01-02     92.000000\n",
       "2013-01-03     87.000000\n",
       "2013-01-04     71.333333\n",
       "2013-01-05     86.833333\n",
       "                 ...    \n",
       "2016-12-28     68.043478\n",
       "2016-12-29     87.857143\n",
       "2016-12-30     89.666667\n",
       "2016-12-31     87.000000\n",
       "2017-01-01    100.000000\n",
       "Name: humidity, Length: 1462, dtype: float64"
      ]
     },
     "execution_count": 96,
     "metadata": {},
     "output_type": "execute_result"
    }
   ],
   "source": [
    "humidity"
   ]
  },
  {
   "cell_type": "code",
   "execution_count": 97,
   "id": "e52a4738-c8ff-4580-87b0-5f71314a512b",
   "metadata": {},
   "outputs": [
    {
     "data": {
      "image/png": "[encoded data removed]",
      "text/plain": [
       "<Figure size 640x480 with 1 Axes>"
      ]
     },
     "metadata": {},
     "output_type": "display_data"
    }
   ],
   "source": [
    "pd.plotting.autocorrelation_plot(humidity)\n",
    "plt.show()"
   ]
  },
  {
   "cell_type": "code",
   "execution_count": 98,
   "id": "a1f45ffb-2515-4356-a174-771b928986b0",
   "metadata": {},
   "outputs": [
    {
     "ename": "ValueError",
     "evalue": "Length of values (2) does not match length of index (365)",
     "output_type": "error",
     "traceback": [
      "\u001b[1;31m---------------------------------------------------------------------------\u001b[0m",
      "\u001b[1;31mValueError\u001b[0m                                Traceback (most recent call last)",
      "Cell \u001b[1;32mIn[98], line 5\u001b[0m\n\u001b[0;32m      2\u001b[0m years \u001b[38;5;241m=\u001b[39m pd\u001b[38;5;241m.\u001b[39mDataFrame()\n\u001b[0;32m      4\u001b[0m \u001b[38;5;28;01mfor\u001b[39;00m name,group \u001b[38;5;129;01min\u001b[39;00m groups:\n\u001b[1;32m----> 5\u001b[0m     years[name\u001b[38;5;241m.\u001b[39myear] \u001b[38;5;241m=\u001b[39m group\u001b[38;5;241m.\u001b[39mvalues\n\u001b[0;32m      6\u001b[0m years\u001b[38;5;241m.\u001b[39mplot(subplots\u001b[38;5;241m=\u001b[39m\u001b[38;5;28;01mTrue\u001b[39;00m,legend\u001b[38;5;241m=\u001b[39m\u001b[38;5;28;01mTrue\u001b[39;00m)\n\u001b[0;32m      7\u001b[0m plt\u001b[38;5;241m.\u001b[39mshow()\n",
      "File \u001b[1;32m~\\anaconda3\\lib\\site-packages\\pandas\\core\\frame.py:3980\u001b[0m, in \u001b[0;36mDataFrame.__setitem__\u001b[1;34m(self, key, value)\u001b[0m\n\u001b[0;32m   3977\u001b[0m     \u001b[38;5;28mself\u001b[39m\u001b[38;5;241m.\u001b[39m_setitem_array([key], value)\n\u001b[0;32m   3978\u001b[0m \u001b[38;5;28;01melse\u001b[39;00m:\n\u001b[0;32m   3979\u001b[0m     \u001b[38;5;66;03m# set column\u001b[39;00m\n\u001b[1;32m-> 3980\u001b[0m     \u001b[38;5;28;43mself\u001b[39;49m\u001b[38;5;241;43m.\u001b[39;49m\u001b[43m_set_item\u001b[49m\u001b[43m(\u001b[49m\u001b[43mkey\u001b[49m\u001b[43m,\u001b[49m\u001b[43m \u001b[49m\u001b[43mvalue\u001b[49m\u001b[43m)\u001b[49m\n",
      "File \u001b[1;32m~\\anaconda3\\lib\\site-packages\\pandas\\core\\frame.py:4174\u001b[0m, in \u001b[0;36mDataFrame._set_item\u001b[1;34m(self, key, value)\u001b[0m\n\u001b[0;32m   4164\u001b[0m \u001b[38;5;28;01mdef\u001b[39;00m \u001b[38;5;21m_set_item\u001b[39m(\u001b[38;5;28mself\u001b[39m, key, value) \u001b[38;5;241m-\u001b[39m\u001b[38;5;241m>\u001b[39m \u001b[38;5;28;01mNone\u001b[39;00m:\n\u001b[0;32m   4165\u001b[0m     \u001b[38;5;124;03m\"\"\"\u001b[39;00m\n\u001b[0;32m   4166\u001b[0m \u001b[38;5;124;03m    Add series to DataFrame in specified column.\u001b[39;00m\n\u001b[0;32m   4167\u001b[0m \n\u001b[1;32m   (...)\u001b[0m\n\u001b[0;32m   4172\u001b[0m \u001b[38;5;124;03m    ensure homogeneity.\u001b[39;00m\n\u001b[0;32m   4173\u001b[0m \u001b[38;5;124;03m    \"\"\"\u001b[39;00m\n\u001b[1;32m-> 4174\u001b[0m     value \u001b[38;5;241m=\u001b[39m \u001b[38;5;28;43mself\u001b[39;49m\u001b[38;5;241;43m.\u001b[39;49m\u001b[43m_sanitize_column\u001b[49m\u001b[43m(\u001b[49m\u001b[43mvalue\u001b[49m\u001b[43m)\u001b[49m\n\u001b[0;32m   4176\u001b[0m     \u001b[38;5;28;01mif\u001b[39;00m (\n\u001b[0;32m   4177\u001b[0m         key \u001b[38;5;129;01min\u001b[39;00m \u001b[38;5;28mself\u001b[39m\u001b[38;5;241m.\u001b[39mcolumns\n\u001b[0;32m   4178\u001b[0m         \u001b[38;5;129;01mand\u001b[39;00m value\u001b[38;5;241m.\u001b[39mndim \u001b[38;5;241m==\u001b[39m \u001b[38;5;241m1\u001b[39m\n\u001b[0;32m   4179\u001b[0m         \u001b[38;5;129;01mand\u001b[39;00m \u001b[38;5;129;01mnot\u001b[39;00m is_extension_array_dtype(value)\n\u001b[0;32m   4180\u001b[0m     ):\n\u001b[0;32m   4181\u001b[0m         \u001b[38;5;66;03m# broadcast across multiple columns if necessary\u001b[39;00m\n\u001b[0;32m   4182\u001b[0m         \u001b[38;5;28;01mif\u001b[39;00m \u001b[38;5;129;01mnot\u001b[39;00m \u001b[38;5;28mself\u001b[39m\u001b[38;5;241m.\u001b[39mcolumns\u001b[38;5;241m.\u001b[39mis_unique \u001b[38;5;129;01mor\u001b[39;00m \u001b[38;5;28misinstance\u001b[39m(\u001b[38;5;28mself\u001b[39m\u001b[38;5;241m.\u001b[39mcolumns, MultiIndex):\n",
      "File \u001b[1;32m~\\anaconda3\\lib\\site-packages\\pandas\\core\\frame.py:4915\u001b[0m, in \u001b[0;36mDataFrame._sanitize_column\u001b[1;34m(self, value)\u001b[0m\n\u001b[0;32m   4912\u001b[0m     \u001b[38;5;28;01mreturn\u001b[39;00m _reindex_for_setitem(Series(value), \u001b[38;5;28mself\u001b[39m\u001b[38;5;241m.\u001b[39mindex)\n\u001b[0;32m   4914\u001b[0m \u001b[38;5;28;01mif\u001b[39;00m is_list_like(value):\n\u001b[1;32m-> 4915\u001b[0m     \u001b[43mcom\u001b[49m\u001b[38;5;241;43m.\u001b[39;49m\u001b[43mrequire_length_match\u001b[49m\u001b[43m(\u001b[49m\u001b[43mvalue\u001b[49m\u001b[43m,\u001b[49m\u001b[43m \u001b[49m\u001b[38;5;28;43mself\u001b[39;49m\u001b[38;5;241;43m.\u001b[39;49m\u001b[43mindex\u001b[49m\u001b[43m)\u001b[49m\n\u001b[0;32m   4916\u001b[0m \u001b[38;5;28;01mreturn\u001b[39;00m sanitize_array(value, \u001b[38;5;28mself\u001b[39m\u001b[38;5;241m.\u001b[39mindex, copy\u001b[38;5;241m=\u001b[39m\u001b[38;5;28;01mTrue\u001b[39;00m, allow_2d\u001b[38;5;241m=\u001b[39m\u001b[38;5;28;01mTrue\u001b[39;00m)\n",
      "File \u001b[1;32m~\\anaconda3\\lib\\site-packages\\pandas\\core\\common.py:571\u001b[0m, in \u001b[0;36mrequire_length_match\u001b[1;34m(data, index)\u001b[0m\n\u001b[0;32m    567\u001b[0m \u001b[38;5;124;03m\"\"\"\u001b[39;00m\n\u001b[0;32m    568\u001b[0m \u001b[38;5;124;03mCheck the length of data matches the length of the index.\u001b[39;00m\n\u001b[0;32m    569\u001b[0m \u001b[38;5;124;03m\"\"\"\u001b[39;00m\n\u001b[0;32m    570\u001b[0m \u001b[38;5;28;01mif\u001b[39;00m \u001b[38;5;28mlen\u001b[39m(data) \u001b[38;5;241m!=\u001b[39m \u001b[38;5;28mlen\u001b[39m(index):\n\u001b[1;32m--> 571\u001b[0m     \u001b[38;5;28;01mraise\u001b[39;00m \u001b[38;5;167;01mValueError\u001b[39;00m(\n\u001b[0;32m    572\u001b[0m         \u001b[38;5;124m\"\u001b[39m\u001b[38;5;124mLength of values \u001b[39m\u001b[38;5;124m\"\u001b[39m\n\u001b[0;32m    573\u001b[0m         \u001b[38;5;124mf\u001b[39m\u001b[38;5;124m\"\u001b[39m\u001b[38;5;124m(\u001b[39m\u001b[38;5;132;01m{\u001b[39;00m\u001b[38;5;28mlen\u001b[39m(data)\u001b[38;5;132;01m}\u001b[39;00m\u001b[38;5;124m) \u001b[39m\u001b[38;5;124m\"\u001b[39m\n\u001b[0;32m    574\u001b[0m         \u001b[38;5;124m\"\u001b[39m\u001b[38;5;124mdoes not match length of index \u001b[39m\u001b[38;5;124m\"\u001b[39m\n\u001b[0;32m    575\u001b[0m         \u001b[38;5;124mf\u001b[39m\u001b[38;5;124m\"\u001b[39m\u001b[38;5;124m(\u001b[39m\u001b[38;5;132;01m{\u001b[39;00m\u001b[38;5;28mlen\u001b[39m(index)\u001b[38;5;132;01m}\u001b[39;00m\u001b[38;5;124m)\u001b[39m\u001b[38;5;124m\"\u001b[39m\n\u001b[0;32m    576\u001b[0m     )\n",
      "\u001b[1;31mValueError\u001b[0m: Length of values (2) does not match length of index (365)"
     ]
    }
   ],
   "source": [
    "\n",
    "groups = humidity.groupby(pd.Grouper(freq='BA'))\n",
    "years = pd.DataFrame()\n",
    "\n",
    "for name,group in groups:\n",
    "    years[name.year] = group.values\n",
    "years.plot(subplots=True,legend=True)\n",
    "plt.show()"
   ]
  },
  {
   "cell_type": "code",
   "execution_count": 43,
   "id": "d0083a4e-ec07-4cc9-adcc-8d36ad388bb3",
   "metadata": {},
   "outputs": [
    {
     "data": {
      "text/html": [
       "<div>\n",
       "<style scoped>\n",
       "    .dataframe tbody tr th:only-of-type {\n",
       "        vertical-align: middle;\n",
       "    }\n",
       "\n",
       "    .dataframe tbody tr th {\n",
       "        vertical-align: top;\n",
       "    }\n",
       "\n",
       "    .dataframe thead th {\n",
       "        text-align: right;\n",
       "    }\n",
       "</style>\n",
       "<table border=\"1\" class=\"dataframe\">\n",
       "  <thead>\n",
       "    <tr style=\"text-align: right;\">\n",
       "      <th></th>\n",
       "      <th>1985</th>\n",
       "      <th>1986</th>\n",
       "      <th>1987</th>\n",
       "      <th>1988</th>\n",
       "      <th>1989</th>\n",
       "      <th>1990</th>\n",
       "      <th>1991</th>\n",
       "      <th>1992</th>\n",
       "      <th>1993</th>\n",
       "      <th>1994</th>\n",
       "      <th>...</th>\n",
       "      <th>2009</th>\n",
       "      <th>2010</th>\n",
       "      <th>2011</th>\n",
       "      <th>2012</th>\n",
       "      <th>2013</th>\n",
       "      <th>2014</th>\n",
       "      <th>2015</th>\n",
       "      <th>2016</th>\n",
       "      <th>2017</th>\n",
       "      <th>2018</th>\n",
       "    </tr>\n",
       "  </thead>\n",
       "  <tbody>\n",
       "    <tr>\n",
       "      <th>0</th>\n",
       "      <td>68.7145</td>\n",
       "      <td>68.1354</td>\n",
       "      <td>70.5777</td>\n",
       "      <td>73.8631</td>\n",
       "      <td>84.1949</td>\n",
       "      <td>77.6839</td>\n",
       "      <td>79.4894</td>\n",
       "      <td>84.5159</td>\n",
       "      <td>84.2284</td>\n",
       "      <td>84.8147</td>\n",
       "      <td>...</td>\n",
       "      <td>110.6844</td>\n",
       "      <td>114.3266</td>\n",
       "      <td>107.3312</td>\n",
       "      <td>105.2722</td>\n",
       "      <td>113.4732</td>\n",
       "      <td>109.3477</td>\n",
       "      <td>103.2203</td>\n",
       "      <td>112.7694</td>\n",
       "      <td>114.7212</td>\n",
       "      <td>129.4048</td>\n",
       "    </tr>\n",
       "  </tbody>\n",
       "</table>\n",
       "<p>1 rows × 34 columns</p>\n",
       "</div>"
      ],
      "text/plain": [
       "      1985     1986     1987     1988     1989     1990     1991     1992  \\\n",
       "0  68.7145  68.1354  70.5777  73.8631  84.1949  77.6839  79.4894  84.5159   \n",
       "\n",
       "      1993     1994  ...      2009      2010      2011      2012      2013  \\\n",
       "0  84.2284  84.8147  ...  110.6844  114.3266  107.3312  105.2722  113.4732   \n",
       "\n",
       "       2014      2015      2016      2017      2018  \n",
       "0  109.3477  103.2203  112.7694  114.7212  129.4048  \n",
       "\n",
       "[1 rows x 34 columns]"
      ]
     },
     "execution_count": 43,
     "metadata": {},
     "output_type": "execute_result"
    }
   ],
   "source": [
    "years"
   ]
  },
  {
   "cell_type": "code",
   "execution_count": 54,
   "id": "02323de9-8489-48c1-ae68-e8dca7fdf46a",
   "metadata": {},
   "outputs": [
    {
     "data": {
      "text/plain": [
       "<Axes: >"
      ]
     },
     "execution_count": 54,
     "metadata": {},
     "output_type": "execute_result"
    },
    {
     "data": {
      "image/png": "[encoded data removed]",
      "text/plain": [
       "<Figure size 640x480 with 1 Axes>"
      ]
     },
     "metadata": {},
     "output_type": "display_data"
    }
   ],
   "source": [
    "energy.hist(color=\"g\")"
   ]
  },
  {
   "cell_type": "code",
   "execution_count": 55,
   "id": "2ef353c3-5fd7-4ecf-aac6-4e1034e4994d",
   "metadata": {},
   "outputs": [
    {
     "data": {
      "image/png": "[encoded data removed]",
      "text/plain": [
       "<Figure size 640x480 with 1 Axes>"
      ]
     },
     "metadata": {},
     "output_type": "display_data"
    }
   ],
   "source": [
    "energy.plot(kind=\"kde\")\n",
    "plt.show()"
   ]
  },
  {
   "cell_type": "markdown",
   "id": "ea32e1b0-e54d-458e-bb0c-577fd844ff23",
   "metadata": {},
   "source": [
    "## Boxer Whisker plot"
   ]
  },
  {
   "cell_type": "code",
   "execution_count": 101,
   "id": "d0d3eb9f-29e3-439f-85e6-f9510c0b39d9",
   "metadata": {},
   "outputs": [
    {
     "ename": "ValueError",
     "evalue": "Length of values (366) does not match length of index (365)",
     "output_type": "error",
     "traceback": [
      "\u001b[1;31m---------------------------------------------------------------------------\u001b[0m",
      "\u001b[1;31mValueError\u001b[0m                                Traceback (most recent call last)",
      "Cell \u001b[1;32mIn[101], line 4\u001b[0m\n\u001b[0;32m      2\u001b[0m years \u001b[38;5;241m=\u001b[39m pd\u001b[38;5;241m.\u001b[39mDataFrame()\n\u001b[0;32m      3\u001b[0m \u001b[38;5;28;01mfor\u001b[39;00m name,group \u001b[38;5;129;01min\u001b[39;00m groups:\n\u001b[1;32m----> 4\u001b[0m     years[name\u001b[38;5;241m.\u001b[39myear] \u001b[38;5;241m=\u001b[39m group\u001b[38;5;241m.\u001b[39mvalues\n\u001b[0;32m      6\u001b[0m years\u001b[38;5;241m.\u001b[39mboxplot(color\u001b[38;5;241m=\u001b[39m\u001b[38;5;124m\"\u001b[39m\u001b[38;5;124mr\u001b[39m\u001b[38;5;124m\"\u001b[39m)\n\u001b[0;32m      7\u001b[0m plt\u001b[38;5;241m.\u001b[39mshow()\n",
      "File \u001b[1;32m~\\anaconda3\\lib\\site-packages\\pandas\\core\\frame.py:3980\u001b[0m, in \u001b[0;36mDataFrame.__setitem__\u001b[1;34m(self, key, value)\u001b[0m\n\u001b[0;32m   3977\u001b[0m     \u001b[38;5;28mself\u001b[39m\u001b[38;5;241m.\u001b[39m_setitem_array([key], value)\n\u001b[0;32m   3978\u001b[0m \u001b[38;5;28;01melse\u001b[39;00m:\n\u001b[0;32m   3979\u001b[0m     \u001b[38;5;66;03m# set column\u001b[39;00m\n\u001b[1;32m-> 3980\u001b[0m     \u001b[38;5;28;43mself\u001b[39;49m\u001b[38;5;241;43m.\u001b[39;49m\u001b[43m_set_item\u001b[49m\u001b[43m(\u001b[49m\u001b[43mkey\u001b[49m\u001b[43m,\u001b[49m\u001b[43m \u001b[49m\u001b[43mvalue\u001b[49m\u001b[43m)\u001b[49m\n",
      "File \u001b[1;32m~\\anaconda3\\lib\\site-packages\\pandas\\core\\frame.py:4174\u001b[0m, in \u001b[0;36mDataFrame._set_item\u001b[1;34m(self, key, value)\u001b[0m\n\u001b[0;32m   4164\u001b[0m \u001b[38;5;28;01mdef\u001b[39;00m \u001b[38;5;21m_set_item\u001b[39m(\u001b[38;5;28mself\u001b[39m, key, value) \u001b[38;5;241m-\u001b[39m\u001b[38;5;241m>\u001b[39m \u001b[38;5;28;01mNone\u001b[39;00m:\n\u001b[0;32m   4165\u001b[0m     \u001b[38;5;124;03m\"\"\"\u001b[39;00m\n\u001b[0;32m   4166\u001b[0m \u001b[38;5;124;03m    Add series to DataFrame in specified column.\u001b[39;00m\n\u001b[0;32m   4167\u001b[0m \n\u001b[1;32m   (...)\u001b[0m\n\u001b[0;32m   4172\u001b[0m \u001b[38;5;124;03m    ensure homogeneity.\u001b[39;00m\n\u001b[0;32m   4173\u001b[0m \u001b[38;5;124;03m    \"\"\"\u001b[39;00m\n\u001b[1;32m-> 4174\u001b[0m     value \u001b[38;5;241m=\u001b[39m \u001b[38;5;28;43mself\u001b[39;49m\u001b[38;5;241;43m.\u001b[39;49m\u001b[43m_sanitize_column\u001b[49m\u001b[43m(\u001b[49m\u001b[43mvalue\u001b[49m\u001b[43m)\u001b[49m\n\u001b[0;32m   4176\u001b[0m     \u001b[38;5;28;01mif\u001b[39;00m (\n\u001b[0;32m   4177\u001b[0m         key \u001b[38;5;129;01min\u001b[39;00m \u001b[38;5;28mself\u001b[39m\u001b[38;5;241m.\u001b[39mcolumns\n\u001b[0;32m   4178\u001b[0m         \u001b[38;5;129;01mand\u001b[39;00m value\u001b[38;5;241m.\u001b[39mndim \u001b[38;5;241m==\u001b[39m \u001b[38;5;241m1\u001b[39m\n\u001b[0;32m   4179\u001b[0m         \u001b[38;5;129;01mand\u001b[39;00m \u001b[38;5;129;01mnot\u001b[39;00m is_extension_array_dtype(value)\n\u001b[0;32m   4180\u001b[0m     ):\n\u001b[0;32m   4181\u001b[0m         \u001b[38;5;66;03m# broadcast across multiple columns if necessary\u001b[39;00m\n\u001b[0;32m   4182\u001b[0m         \u001b[38;5;28;01mif\u001b[39;00m \u001b[38;5;129;01mnot\u001b[39;00m \u001b[38;5;28mself\u001b[39m\u001b[38;5;241m.\u001b[39mcolumns\u001b[38;5;241m.\u001b[39mis_unique \u001b[38;5;129;01mor\u001b[39;00m \u001b[38;5;28misinstance\u001b[39m(\u001b[38;5;28mself\u001b[39m\u001b[38;5;241m.\u001b[39mcolumns, MultiIndex):\n",
      "File \u001b[1;32m~\\anaconda3\\lib\\site-packages\\pandas\\core\\frame.py:4915\u001b[0m, in \u001b[0;36mDataFrame._sanitize_column\u001b[1;34m(self, value)\u001b[0m\n\u001b[0;32m   4912\u001b[0m     \u001b[38;5;28;01mreturn\u001b[39;00m _reindex_for_setitem(Series(value), \u001b[38;5;28mself\u001b[39m\u001b[38;5;241m.\u001b[39mindex)\n\u001b[0;32m   4914\u001b[0m \u001b[38;5;28;01mif\u001b[39;00m is_list_like(value):\n\u001b[1;32m-> 4915\u001b[0m     \u001b[43mcom\u001b[49m\u001b[38;5;241;43m.\u001b[39;49m\u001b[43mrequire_length_match\u001b[49m\u001b[43m(\u001b[49m\u001b[43mvalue\u001b[49m\u001b[43m,\u001b[49m\u001b[43m \u001b[49m\u001b[38;5;28;43mself\u001b[39;49m\u001b[38;5;241;43m.\u001b[39;49m\u001b[43mindex\u001b[49m\u001b[43m)\u001b[49m\n\u001b[0;32m   4916\u001b[0m \u001b[38;5;28;01mreturn\u001b[39;00m sanitize_array(value, \u001b[38;5;28mself\u001b[39m\u001b[38;5;241m.\u001b[39mindex, copy\u001b[38;5;241m=\u001b[39m\u001b[38;5;28;01mTrue\u001b[39;00m, allow_2d\u001b[38;5;241m=\u001b[39m\u001b[38;5;28;01mTrue\u001b[39;00m)\n",
      "File \u001b[1;32m~\\anaconda3\\lib\\site-packages\\pandas\\core\\common.py:571\u001b[0m, in \u001b[0;36mrequire_length_match\u001b[1;34m(data, index)\u001b[0m\n\u001b[0;32m    567\u001b[0m \u001b[38;5;124;03m\"\"\"\u001b[39;00m\n\u001b[0;32m    568\u001b[0m \u001b[38;5;124;03mCheck the length of data matches the length of the index.\u001b[39;00m\n\u001b[0;32m    569\u001b[0m \u001b[38;5;124;03m\"\"\"\u001b[39;00m\n\u001b[0;32m    570\u001b[0m \u001b[38;5;28;01mif\u001b[39;00m \u001b[38;5;28mlen\u001b[39m(data) \u001b[38;5;241m!=\u001b[39m \u001b[38;5;28mlen\u001b[39m(index):\n\u001b[1;32m--> 571\u001b[0m     \u001b[38;5;28;01mraise\u001b[39;00m \u001b[38;5;167;01mValueError\u001b[39;00m(\n\u001b[0;32m    572\u001b[0m         \u001b[38;5;124m\"\u001b[39m\u001b[38;5;124mLength of values \u001b[39m\u001b[38;5;124m\"\u001b[39m\n\u001b[0;32m    573\u001b[0m         \u001b[38;5;124mf\u001b[39m\u001b[38;5;124m\"\u001b[39m\u001b[38;5;124m(\u001b[39m\u001b[38;5;132;01m{\u001b[39;00m\u001b[38;5;28mlen\u001b[39m(data)\u001b[38;5;132;01m}\u001b[39;00m\u001b[38;5;124m) \u001b[39m\u001b[38;5;124m\"\u001b[39m\n\u001b[0;32m    574\u001b[0m         \u001b[38;5;124m\"\u001b[39m\u001b[38;5;124mdoes not match length of index \u001b[39m\u001b[38;5;124m\"\u001b[39m\n\u001b[0;32m    575\u001b[0m         \u001b[38;5;124mf\u001b[39m\u001b[38;5;124m\"\u001b[39m\u001b[38;5;124m(\u001b[39m\u001b[38;5;132;01m{\u001b[39;00m\u001b[38;5;28mlen\u001b[39m(index)\u001b[38;5;132;01m}\u001b[39;00m\u001b[38;5;124m)\u001b[39m\u001b[38;5;124m\"\u001b[39m\n\u001b[0;32m    576\u001b[0m     )\n",
      "\u001b[1;31mValueError\u001b[0m: Length of values (366) does not match length of index (365)"
     ]
    }
   ],
   "source": [
    "groups = humidity.groupby(pd.Grouper(freq=\"AS\"))\n",
    "years = pd.DataFrame()\n",
    "for name,group in groups:\n",
    "    years[name.year] = group.values\n",
    "\n",
    "years.boxplot(color=\"r\")\n",
    "plt.show()"
   ]
  },
  {
   "cell_type": "code",
   "execution_count": 102,
   "id": "e5c328e6-0463-4ed7-9d57-4e61ed915cb5",
   "metadata": {},
   "outputs": [
    {
     "data": {
      "text/plain": [
       "date\n",
       "2013-01-01     84.500000\n",
       "2013-01-02     92.000000\n",
       "2013-01-03     87.000000\n",
       "2013-01-04     71.333333\n",
       "2013-01-05     86.833333\n",
       "                 ...    \n",
       "2016-12-28     68.043478\n",
       "2016-12-29     87.857143\n",
       "2016-12-30     89.666667\n",
       "2016-12-31     87.000000\n",
       "2017-01-01    100.000000\n",
       "Name: humidity, Length: 1462, dtype: float64"
      ]
     },
     "execution_count": 102,
     "metadata": {},
     "output_type": "execute_result"
    }
   ],
   "source": [
    "humidity"
   ]
  },
  {
   "cell_type": "code",
   "execution_count": 103,
   "id": "bd27fa17-2808-4f7f-952d-f978b95de121",
   "metadata": {},
   "outputs": [
    {
     "name": "stdout",
     "output_type": "stream",
     "text": [
      " Volume in drive C is Windows\n",
      " Volume Serial Number is B233-0680\n",
      "\n",
      " Directory of C:\\data science\\Time series\n",
      "\n",
      "22-04-2024  12:08    <DIR>          .\n",
      "17-04-2024  13:07    <DIR>          ..\n",
      "22-04-2024  11:21    <DIR>          .ipynb_checkpoints\n",
      "19-04-2024  12:15            55,852 daily-minimum-temperatures-in-me.csv\n",
      "17-04-2024  12:18            55,837 daily-minimum-temperatures-in-me.csv.xls\n",
      "19-04-2024  14:41            78,199 DailyDelhiClimateTrain.csv\n",
      "19-04-2024  12:19           590,808 Data Preperation.ipynb\n",
      "19-04-2024  12:15             7,318 Electric_Production.csv\n",
      "19-04-2024  12:15             6,903 monthly-beer-production-in-austr.csv\n",
      "22-04-2024  12:08           185,514 ploting time series.ipynb\n",
      "22-04-2024  12:07           144,488 Resampling and Interpolation.ipynb\n",
      "19-04-2024  12:15               509 sales-of-shampoo-over-a-three-ye.csv\n",
      "22-04-2024  11:20               519 shampoo.csv.xls\n",
      "18-04-2024  12:12            32,954 Time_Series_Forecasting.ipynb\n",
      "              11 File(s)      1,158,901 bytes\n",
      "               3 Dir(s)  185,024,581,632 bytes free\n"
     ]
    }
   ],
   "source": [
    "!dir"
   ]
  },
  {
   "cell_type": "code",
   "execution_count": 104,
   "id": "158956ed-e519-44b7-a96b-9fd7f2478020",
   "metadata": {},
   "outputs": [],
   "source": [
    "from datetime import datetime"
   ]
  },
  {
   "cell_type": "code",
   "execution_count": null,
   "id": "e45d2934-8325-4775-89b5-3c533bedd2fa",
   "metadata": {},
   "outputs": [],
   "source": []
  },
  {
   "cell_type": "code",
   "execution_count": 110,
   "id": "f8083c9f-8989-410b-9107-447aaf4e8171",
   "metadata": {},
   "outputs": [],
   "source": [
    "energy = pd.read_csv(\"Electric_Production.csv\",header=0,index_col=[0],parse_dates=True).squeeze()"
   ]
  },
  {
   "cell_type": "code",
   "execution_count": 113,
   "id": "e16853ae-019c-4779-ae15-749d6a75788e",
   "metadata": {},
   "outputs": [
    {
     "data": {
      "text/plain": [
       "DatetimeIndex(['1985-01-01', '1985-02-01', '1985-03-01', '1985-04-01',\n",
       "               '1985-05-01', '1985-06-01', '1985-07-01', '1985-08-01',\n",
       "               '1985-09-01', '1985-10-01',\n",
       "               ...\n",
       "               '2017-04-01', '2017-05-01', '2017-06-01', '2017-07-01',\n",
       "               '2017-08-01', '2017-09-01', '2017-10-01', '2017-11-01',\n",
       "               '2017-12-01', '2018-01-01'],\n",
       "              dtype='datetime64[ns]', name='DATE', length=397, freq=None)"
      ]
     },
     "execution_count": 113,
     "metadata": {},
     "output_type": "execute_result"
    }
   ],
   "source": [
    "energy.index"
   ]
  },
  {
   "cell_type": "code",
   "execution_count": 114,
   "id": "37ceb57e-0d82-47f7-b54b-773762368bf8",
   "metadata": {},
   "outputs": [],
   "source": [
    "upsampled = energy.resample('D').mean()"
   ]
  },
  {
   "cell_type": "code",
   "execution_count": 115,
   "id": "631e188c-b86b-4fe4-86c7-c912c614ddd6",
   "metadata": {},
   "outputs": [
    {
     "data": {
      "text/plain": [
       "DATE\n",
       "1985-01-01     72.5052\n",
       "1985-01-02         NaN\n",
       "1985-01-03         NaN\n",
       "1985-01-04         NaN\n",
       "1985-01-05         NaN\n",
       "                ...   \n",
       "2017-12-28         NaN\n",
       "2017-12-29         NaN\n",
       "2017-12-30         NaN\n",
       "2017-12-31         NaN\n",
       "2018-01-01    129.4048\n",
       "Freq: D, Name: IPG2211A2N, Length: 12054, dtype: float64"
      ]
     },
     "execution_count": 115,
     "metadata": {},
     "output_type": "execute_result"
    }
   ],
   "source": [
    "upsampled"
   ]
  },
  {
   "cell_type": "code",
   "execution_count": 116,
   "id": "ac6594e9-4459-470f-a65d-93b9eba0f5fc",
   "metadata": {},
   "outputs": [
    {
     "data": {
      "text/plain": [
       "12054"
      ]
     },
     "execution_count": 116,
     "metadata": {},
     "output_type": "execute_result"
    }
   ],
   "source": [
    "len(upsampled)"
   ]
  },
  {
   "cell_type": "code",
   "execution_count": 117,
   "id": "98b9c461-49f1-49da-89ab-3232440d3bd0",
   "metadata": {},
   "outputs": [
    {
     "data": {
      "text/plain": [
       "33"
      ]
     },
     "execution_count": 117,
     "metadata": {},
     "output_type": "execute_result"
    }
   ],
   "source": [
    "2018-1985"
   ]
  },
  {
   "cell_type": "code",
   "execution_count": 119,
   "id": "4d41b811-1adf-4a5a-afae-e435a570d083",
   "metadata": {},
   "outputs": [
    {
     "data": {
      "text/plain": [
       "12045"
      ]
     },
     "execution_count": 119,
     "metadata": {},
     "output_type": "execute_result"
    }
   ],
   "source": [
    "33*365"
   ]
  },
  {
   "cell_type": "code",
   "execution_count": 120,
   "id": "2b155d65-7bc4-4aed-8369-26a75c8f60f3",
   "metadata": {},
   "outputs": [
    {
     "data": {
      "text/plain": [
       "DATE\n",
       "1985-01-01     72.505200\n",
       "1985-01-02     72.968408\n",
       "1985-01-03     73.374391\n",
       "1985-01-04     73.726016\n",
       "1985-01-05     74.026065\n",
       "                 ...    \n",
       "2017-12-28    129.727546\n",
       "2017-12-29    129.754540\n",
       "2017-12-30    129.712470\n",
       "2017-12-31    129.597281\n",
       "2018-01-01    129.404800\n",
       "Freq: D, Name: IPG2211A2N, Length: 12054, dtype: float64"
      ]
     },
     "execution_count": 120,
     "metadata": {},
     "output_type": "execute_result"
    }
   ],
   "source": [
    "interpolated = upsampled.interpolate(method='polynomial',order=5)\n",
    "interpolated"
   ]
  },
  {
   "cell_type": "code",
   "execution_count": 121,
   "id": "e9d2b0e7-2e75-4783-baa9-e92230980c33",
   "metadata": {},
   "outputs": [
    {
     "data": {
      "image/png": "[encoded data removed]",
      "text/plain": [
       "<Figure size 640x480 with 1 Axes>"
      ]
     },
     "metadata": {},
     "output_type": "display_data"
    }
   ],
   "source": [
    "interpolated.plot()\n",
    "plt.show()"
   ]
  },
  {
   "cell_type": "markdown",
   "id": "bf4ba2a5-7528-4df7-b49d-1b5b2935cb80",
   "metadata": {},
   "source": [
    "### downsampling"
   ]
  },
  {
   "cell_type": "code",
   "execution_count": 123,
   "id": "c5d26aa4-46d0-40e1-b759-39994f55348b",
   "metadata": {},
   "outputs": [
    {
     "name": "stdout",
     "output_type": "stream",
     "text": [
      "DATE\n",
      "1985-03-31     68.542467\n",
      "1985-06-30     56.958967\n",
      "1985-09-30     62.151100\n",
      "1985-12-31     61.010133\n",
      "1986-03-31     67.838233\n",
      "                 ...    \n",
      "2017-03-31    105.126733\n",
      "2017-06-30     94.195567\n",
      "2017-09-30    106.566800\n",
      "2017-12-31    101.890267\n",
      "2018-03-31    129.404800\n",
      "Freq: Q-DEC, Name: IPG2211A2N, Length: 133, dtype: float64\n"
     ]
    },
    {
     "data": {
      "image/png": "[encoded data removed]",
      "text/plain": [
       "<Figure size 640x480 with 1 Axes>"
      ]
     },
     "metadata": {},
     "output_type": "display_data"
    }
   ],
   "source": [
    "resample = energy.resample(\"Q\")\n",
    "quarterly_mean_energy = resample.mean()\n",
    "print(quarterly_mean_energy)\n",
    "quarterly_mean_energy.plot()\n",
    "plt.show()"
   ]
  },
  {
   "cell_type": "code",
   "execution_count": 126,
   "id": "f0852ed0-5839-4aff-9229-edeeff9ed6a6",
   "metadata": {},
   "outputs": [
    {
     "name": "stdout",
     "output_type": "stream",
     "text": [
      "DATE\n",
      "1985-12-31     745.9880\n",
      "1986-12-31     752.5187\n",
      "1987-12-31     788.8833\n",
      "1988-12-31     836.5963\n",
      "1989-12-31     862.7420\n",
      "1990-12-31     879.7612\n",
      "1991-12-31     901.3422\n",
      "1992-12-31     901.4509\n",
      "1993-12-31     932.1479\n",
      "1994-12-31     951.0607\n",
      "1995-12-31     984.7304\n",
      "1996-12-31    1012.5890\n",
      "1997-12-31    1010.8343\n",
      "1998-12-31    1038.5289\n",
      "1999-12-31    1070.2907\n",
      "2000-12-31    1101.4815\n",
      "2001-12-31    1097.5295\n",
      "2002-12-31    1129.2849\n",
      "2003-12-31    1148.4013\n",
      "2004-12-31    1165.4307\n",
      "2005-12-31    1190.4989\n",
      "2006-12-31    1186.4787\n",
      "2007-12-31    1223.8100\n",
      "2008-12-31    1219.9679\n",
      "2009-12-31    1185.9574\n",
      "2010-12-31    1231.1626\n",
      "2011-12-31    1227.4857\n",
      "2012-12-31    1199.9999\n",
      "2013-12-31    1228.0482\n",
      "2014-12-31    1244.7934\n",
      "2015-12-31    1236.6349\n",
      "2016-12-31    1233.1725\n",
      "2017-12-31    1223.3381\n",
      "2018-12-31     129.4048\n",
      "Freq: A-DEC, Name: IPG2211A2N, dtype: float64\n"
     ]
    },
    {
     "data": {
      "image/png": "[encoded data removed]",
      "text/plain": [
       "<Figure size 640x480 with 1 Axes>"
      ]
     },
     "metadata": {},
     "output_type": "display_data"
    }
   ],
   "source": [
    "resample = energy.resample('A')\n",
    "annual_sum_of_energy = resample.sum()\n",
    "print(annual_sum_of_energy)\n",
    "annual_sum_of_energy.plot()\n",
    "plt.show()"
   ]
  },
  {
   "cell_type": "markdown",
   "id": "dcf71589-0981-49aa-8aa0-e0a523d8a959",
   "metadata": {},
   "source": []
  },
  {
   "cell_type": "markdown",
   "id": "c800bd10-86fa-423a-b801-15949c61dd94",
   "metadata": {},
   "source": [
    "### square root transform"
   ]
  },
  {
   "cell_type": "code",
   "execution_count": 131,
   "id": "ffbfc206-ad92-442b-a093-f16204561bfe",
   "metadata": {},
   "outputs": [],
   "source": [
    "dataframe = pd.DataFrame(interpolated.values)"
   ]
  },
  {
   "cell_type": "code",
   "execution_count": 133,
   "id": "0a8006f0-ed24-4764-af5f-1459fcbdda85",
   "metadata": {},
   "outputs": [],
   "source": [
    "dataframe.columns=[\"energy\"]"
   ]
  },
  {
   "cell_type": "code",
   "execution_count": 134,
   "id": "ac7d7833-00f1-405a-bf2a-7ea359692b3f",
   "metadata": {},
   "outputs": [
    {
     "data": {
      "text/html": [
       "<div>\n",
       "<style scoped>\n",
       "    .dataframe tbody tr th:only-of-type {\n",
       "        vertical-align: middle;\n",
       "    }\n",
       "\n",
       "    .dataframe tbody tr th {\n",
       "        vertical-align: top;\n",
       "    }\n",
       "\n",
       "    .dataframe thead th {\n",
       "        text-align: right;\n",
       "    }\n",
       "</style>\n",
       "<table border=\"1\" class=\"dataframe\">\n",
       "  <thead>\n",
       "    <tr style=\"text-align: right;\">\n",
       "      <th></th>\n",
       "      <th>energy</th>\n",
       "    </tr>\n",
       "  </thead>\n",
       "  <tbody>\n",
       "    <tr>\n",
       "      <th>0</th>\n",
       "      <td>72.505200</td>\n",
       "    </tr>\n",
       "    <tr>\n",
       "      <th>1</th>\n",
       "      <td>72.968408</td>\n",
       "    </tr>\n",
       "    <tr>\n",
       "      <th>2</th>\n",
       "      <td>73.374391</td>\n",
       "    </tr>\n",
       "    <tr>\n",
       "      <th>3</th>\n",
       "      <td>73.726016</td>\n",
       "    </tr>\n",
       "    <tr>\n",
       "      <th>4</th>\n",
       "      <td>74.026065</td>\n",
       "    </tr>\n",
       "    <tr>\n",
       "      <th>...</th>\n",
       "      <td>...</td>\n",
       "    </tr>\n",
       "    <tr>\n",
       "      <th>12049</th>\n",
       "      <td>129.727546</td>\n",
       "    </tr>\n",
       "    <tr>\n",
       "      <th>12050</th>\n",
       "      <td>129.754540</td>\n",
       "    </tr>\n",
       "    <tr>\n",
       "      <th>12051</th>\n",
       "      <td>129.712470</td>\n",
       "    </tr>\n",
       "    <tr>\n",
       "      <th>12052</th>\n",
       "      <td>129.597281</td>\n",
       "    </tr>\n",
       "    <tr>\n",
       "      <th>12053</th>\n",
       "      <td>129.404800</td>\n",
       "    </tr>\n",
       "  </tbody>\n",
       "</table>\n",
       "<p>12054 rows × 1 columns</p>\n",
       "</div>"
      ],
      "text/plain": [
       "           energy\n",
       "0       72.505200\n",
       "1       72.968408\n",
       "2       73.374391\n",
       "3       73.726016\n",
       "4       74.026065\n",
       "...           ...\n",
       "12049  129.727546\n",
       "12050  129.754540\n",
       "12051  129.712470\n",
       "12052  129.597281\n",
       "12053  129.404800\n",
       "\n",
       "[12054 rows x 1 columns]"
      ]
     },
     "execution_count": 134,
     "metadata": {},
     "output_type": "execute_result"
    }
   ],
   "source": [
    "dataframe"
   ]
  },
  {
   "cell_type": "code",
   "execution_count": 135,
   "id": "6373fe26-fe0d-471a-a308-41d10859fa2a",
   "metadata": {},
   "outputs": [],
   "source": [
    "dataframe[\"energy\"] = np.sqrt(dataframe[\"energy\"])"
   ]
  },
  {
   "cell_type": "code",
   "execution_count": 136,
   "id": "d43a683c-0155-4653-ad4c-2533b64731c8",
   "metadata": {},
   "outputs": [
    {
     "data": {
      "text/html": [
       "<div>\n",
       "<style scoped>\n",
       "    .dataframe tbody tr th:only-of-type {\n",
       "        vertical-align: middle;\n",
       "    }\n",
       "\n",
       "    .dataframe tbody tr th {\n",
       "        vertical-align: top;\n",
       "    }\n",
       "\n",
       "    .dataframe thead th {\n",
       "        text-align: right;\n",
       "    }\n",
       "</style>\n",
       "<table border=\"1\" class=\"dataframe\">\n",
       "  <thead>\n",
       "    <tr style=\"text-align: right;\">\n",
       "      <th></th>\n",
       "      <th>energy</th>\n",
       "    </tr>\n",
       "  </thead>\n",
       "  <tbody>\n",
       "    <tr>\n",
       "      <th>0</th>\n",
       "      <td>8.514999</td>\n",
       "    </tr>\n",
       "    <tr>\n",
       "      <th>1</th>\n",
       "      <td>8.542155</td>\n",
       "    </tr>\n",
       "    <tr>\n",
       "      <th>2</th>\n",
       "      <td>8.565885</td>\n",
       "    </tr>\n",
       "    <tr>\n",
       "      <th>3</th>\n",
       "      <td>8.586385</td>\n",
       "    </tr>\n",
       "    <tr>\n",
       "      <th>4</th>\n",
       "      <td>8.603840</td>\n",
       "    </tr>\n",
       "    <tr>\n",
       "      <th>...</th>\n",
       "      <td>...</td>\n",
       "    </tr>\n",
       "    <tr>\n",
       "      <th>12049</th>\n",
       "      <td>11.389800</td>\n",
       "    </tr>\n",
       "    <tr>\n",
       "      <th>12050</th>\n",
       "      <td>11.390985</td>\n",
       "    </tr>\n",
       "    <tr>\n",
       "      <th>12051</th>\n",
       "      <td>11.389138</td>\n",
       "    </tr>\n",
       "    <tr>\n",
       "      <th>12052</th>\n",
       "      <td>11.384080</td>\n",
       "    </tr>\n",
       "    <tr>\n",
       "      <th>12053</th>\n",
       "      <td>11.375623</td>\n",
       "    </tr>\n",
       "  </tbody>\n",
       "</table>\n",
       "<p>12054 rows × 1 columns</p>\n",
       "</div>"
      ],
      "text/plain": [
       "          energy\n",
       "0       8.514999\n",
       "1       8.542155\n",
       "2       8.565885\n",
       "3       8.586385\n",
       "4       8.603840\n",
       "...          ...\n",
       "12049  11.389800\n",
       "12050  11.390985\n",
       "12051  11.389138\n",
       "12052  11.384080\n",
       "12053  11.375623\n",
       "\n",
       "[12054 rows x 1 columns]"
      ]
     },
     "execution_count": 136,
     "metadata": {},
     "output_type": "execute_result"
    }
   ],
   "source": [
    "dataframe"
   ]
  },
  {
   "cell_type": "code",
   "execution_count": 143,
   "id": "3e90d5b1-2351-4729-bcd0-0c148e3675c0",
   "metadata": {},
   "outputs": [
    {
     "data": {
      "image/png": "[encoded data removed]",
      "text/plain": [
       "<Figure size 640x480 with 1 Axes>"
      ]
     },
     "metadata": {},
     "output_type": "display_data"
    }
   ],
   "source": [
    "plt.figure()\n",
    "plt.subplot(221)\n",
    "plt.plot(dataframe[\"energy\"])\n",
    "plt.show()"
   ]
  },
  {
   "cell_type": "markdown",
   "id": "46d4d950-88c1-4c0b-8c79-434cd42f570a",
   "metadata": {},
   "source": [
    "### log Transform"
   ]
  },
  {
   "cell_type": "code",
   "execution_count": null,
   "id": "4579022c-7596-4d2c-a207-a1b0329d17bf",
   "metadata": {},
   "outputs": [],
   "source": [
    "from math import exp\n",
    "plt.figure(1)\n",
    "plt.subplot(221)\n",
    "plt.plot"
   ]
  }
 ],
 "metadata": {
  "kernelspec": {
   "display_name": "Python 3 (ipykernel)",
   "language": "python",
   "name": "python3"
  },
  "language_info": {
   "codemirror_mode": {
    "name": "ipython",
    "version": 3
   },
   "file_extension": ".py",
   "mimetype": "text/x-python",
   "name": "python",
   "nbconvert_exporter": "python",
   "pygments_lexer": "ipython3",
   "version": "3.10.9"
  }
 },
 "nbformat": 4,
 "nbformat_minor": 5
}
